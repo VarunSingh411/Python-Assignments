{
 "cells": [
  {
   "cell_type": "markdown",
   "id": "9a030d1e",
   "metadata": {},
   "source": [
    "Q2: "
   ]
  },
  {
   "cell_type": "markdown",
   "id": "4a7543b4",
   "metadata": {},
   "source": [
    "A variable is a string of characters that hols some values . The assignment operator, denoted by the “=” symbol, is the operator that is used to assign values to variables in Python"
   ]
  },
  {
   "cell_type": "markdown",
   "id": "3d819fa7",
   "metadata": {},
   "source": [
    "Q1:"
   ]
  },
  {
   "cell_type": "markdown",
   "id": "f8676e4b",
   "metadata": {},
   "source": [
    "Comments in Python are done using a hash symbol #. There are three ways to write a comment - \n",
    "- as a separate line \n",
    "- beside the corresponding statement of code \n",
    "- as a multi-line comment block."
   ]
  },
  {
   "cell_type": "markdown",
   "id": "c6a2af03",
   "metadata": {},
   "source": [
    "Q3:"
   ]
  },
  {
   "cell_type": "markdown",
   "id": "3196070b",
   "metadata": {},
   "source": [
    "To convert between types, we simply use the type name as a function.\n",
    "eg:"
   ]
  },
  {
   "cell_type": "code",
   "execution_count": 3,
   "id": "16488671",
   "metadata": {},
   "outputs": [
    {
     "data": {
      "text/plain": [
       "'10'"
      ]
     },
     "execution_count": 3,
     "metadata": {},
     "output_type": "execute_result"
    }
   ],
   "source": [
    "a = 10\n",
    "#coverting in string\n",
    "str(10)"
   ]
  },
  {
   "cell_type": "markdown",
   "id": "8488f750",
   "metadata": {},
   "source": [
    "Q4:"
   ]
  },
  {
   "cell_type": "markdown",
   "id": "c75e3e09",
   "metadata": {},
   "source": [
    "we need to open a command line and type the word python followed by the path to our script file.\n",
    "eg: python varun.py"
   ]
  },
  {
   "cell_type": "markdown",
   "id": "fd52ac6e",
   "metadata": {},
   "source": [
    "Q5: Given a list my_list = [1, 2, 3, 4, 5], write the code to slice the list and obtain the sub-list [2, 3]."
   ]
  },
  {
   "cell_type": "code",
   "execution_count": 6,
   "id": "df1529a2",
   "metadata": {},
   "outputs": [
    {
     "name": "stdout",
     "output_type": "stream",
     "text": [
      "[2, 3]\n"
     ]
    }
   ],
   "source": [
    "l = [1,2,3,4,5]\n",
    "print(l[1:3])"
   ]
  },
  {
   "cell_type": "markdown",
   "id": "82278637",
   "metadata": {},
   "source": [
    "Q6:"
   ]
  },
  {
   "cell_type": "markdown",
   "id": "df687313",
   "metadata": {},
   "source": [
    "Complex numbers are the numbers that are expressed in the form of a+ib where, a,b are real numbers and 'i' is an imaginary number called iota.\n",
    "In python it is written in the form of (x + yj) where x and y are real numbers and j is an imaginary number which is the square root of -1."
   ]
  },
  {
   "cell_type": "markdown",
   "id": "e2953740",
   "metadata": {},
   "source": [
    "Q7:\n",
    "\n",
    "Age =25"
   ]
  },
  {
   "cell_type": "markdown",
   "id": "7479f157",
   "metadata": {},
   "source": [
    "Q8:\n"
   ]
  },
  {
   "cell_type": "code",
   "execution_count": 7,
   "id": "89e7d947",
   "metadata": {},
   "outputs": [
    {
     "name": "stdout",
     "output_type": "stream",
     "text": [
      "<class 'float'>\n"
     ]
    }
   ],
   "source": [
    "price =9.99\n",
    "print(type(price))"
   ]
  },
  {
   "cell_type": "markdown",
   "id": "7befb714",
   "metadata": {},
   "source": [
    "Q9:"
   ]
  },
  {
   "cell_type": "code",
   "execution_count": 8,
   "id": "837d4112",
   "metadata": {},
   "outputs": [
    {
     "name": "stdout",
     "output_type": "stream",
     "text": [
      "V\n",
      "a\n",
      "r\n",
      "u\n",
      "n\n",
      " \n",
      "S\n",
      "i\n",
      "n\n",
      "g\n",
      "h\n"
     ]
    }
   ],
   "source": [
    "name ='Varun Singh'\n",
    "\n",
    "for i in name:\n",
    "    print(i)"
   ]
  },
  {
   "cell_type": "markdown",
   "id": "7b4c9d90",
   "metadata": {},
   "source": [
    "Q10:"
   ]
  },
  {
   "cell_type": "code",
   "execution_count": 9,
   "id": "de5f130b",
   "metadata": {},
   "outputs": [
    {
     "name": "stdout",
     "output_type": "stream",
     "text": [
      " World!\n"
     ]
    }
   ],
   "source": [
    "s = \"Hello, World!\"\n",
    "l = s.split(',')\n",
    "\n",
    "print(l[-1])"
   ]
  },
  {
   "cell_type": "markdown",
   "id": "d01d197d",
   "metadata": {},
   "source": [
    "Q11:"
   ]
  },
  {
   "cell_type": "code",
   "execution_count": null,
   "id": "c2909ba6",
   "metadata": {},
   "outputs": [],
   "source": [
    "is_student = False"
   ]
  },
  {
   "cell_type": "code",
   "execution_count": null,
   "id": "041ab439",
   "metadata": {},
   "outputs": [],
   "source": []
  },
  {
   "cell_type": "code",
   "execution_count": null,
   "id": "7bc01602",
   "metadata": {},
   "outputs": [],
   "source": []
  },
  {
   "cell_type": "code",
   "execution_count": null,
   "id": "ed47847e",
   "metadata": {},
   "outputs": [],
   "source": []
  }
 ],
 "metadata": {
  "kernelspec": {
   "display_name": "Python 3 (ipykernel)",
   "language": "python",
   "name": "python3"
  },
  "language_info": {
   "codemirror_mode": {
    "name": "ipython",
    "version": 3
   },
   "file_extension": ".py",
   "mimetype": "text/x-python",
   "name": "python",
   "nbconvert_exporter": "python",
   "pygments_lexer": "ipython3",
   "version": "3.9.13"
  }
 },
 "nbformat": 4,
 "nbformat_minor": 5
}
