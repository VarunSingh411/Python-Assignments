{
 "cells": [
  {
   "cell_type": "markdown",
   "id": "587119ee",
   "metadata": {},
   "source": [
    "Q1, Create a vehicle class with an init method having instance variables as name_of_vehicle, max_speed\n",
    "and average_of_vehicle."
   ]
  },
  {
   "cell_type": "code",
   "execution_count": 2,
   "id": "d7b23656",
   "metadata": {},
   "outputs": [],
   "source": [
    "class vehicle:\n",
    "    def _init__(self):\n",
    "        self.name_of_vehicle =''\n",
    "        self.max_speed=0\n",
    "        self.average_of_vehicle =0"
   ]
  },
  {
   "cell_type": "markdown",
   "id": "d2d8fce1",
   "metadata": {},
   "source": [
    "Q2. Create a child class car from the vehicle class created in Que 1, which will inherit the vehicle class.\n",
    "Create a method named seating_capacity which takes capacity as an argument and returns the name of\n",
    "the vehicle and its seating capacity."
   ]
  },
  {
   "cell_type": "code",
   "execution_count": 7,
   "id": "4c51a181",
   "metadata": {},
   "outputs": [],
   "source": [
    "class car(vehicle):\n",
    "    def seating_capacity(self,capacity):\n",
    "        self.capacity = capacity\n",
    "        return self.name_of_vehicle , self.capacity\n",
    "    "
   ]
  },
  {
   "cell_type": "markdown",
   "id": "db71ca1e",
   "metadata": {},
   "source": [
    "Q3. What is multiple inheritance? Write a python code to demonstrate multiple inheritance."
   ]
  },
  {
   "cell_type": "markdown",
   "id": "ba8eb9ae",
   "metadata": {},
   "source": [
    "If a child class inherits from more than one class than it knoen as multiple inheritance . eg"
   ]
  },
  {
   "cell_type": "code",
   "execution_count": 8,
   "id": "49e22fa1",
   "metadata": {},
   "outputs": [],
   "source": [
    "class A:\n",
    "    def a(self):\n",
    "        return 'first class'\n",
    "    \n",
    "class B:\n",
    "    def b(self):\n",
    "        return 'second class'\n",
    "\n",
    "class C(A,B):\n",
    "    def c(self):\n",
    "        pass"
   ]
  },
  {
   "cell_type": "code",
   "execution_count": 9,
   "id": "cdd1582b",
   "metadata": {},
   "outputs": [
    {
     "data": {
      "text/plain": [
       "'first class'"
      ]
     },
     "execution_count": 9,
     "metadata": {},
     "output_type": "execute_result"
    }
   ],
   "source": [
    "c = C()\n",
    "c.a()"
   ]
  },
  {
   "cell_type": "code",
   "execution_count": 10,
   "id": "db4a6e1a",
   "metadata": {},
   "outputs": [
    {
     "data": {
      "text/plain": [
       "'second class'"
      ]
     },
     "execution_count": 10,
     "metadata": {},
     "output_type": "execute_result"
    }
   ],
   "source": [
    "c.b()"
   ]
  },
  {
   "cell_type": "markdown",
   "id": "ee2dbcec",
   "metadata": {},
   "source": [
    "Q4. What are getter and setter in python? Create a class and create a getter and a setter method in this class.\n",
    "\n",
    "Ans: Getter and seeter method is used to change the private varaible value and access the private variable of the class . \n",
    "\n",
    "\n"
   ]
  },
  {
   "cell_type": "code",
   "execution_count": 16,
   "id": "f8494e04",
   "metadata": {},
   "outputs": [],
   "source": [
    "class abc:\n",
    "    def __init__(self,a,b):\n",
    "        self.__a = a\n",
    "        self.__b= b\n",
    "        \n",
    "    def set_a(self,a):\n",
    "        self.__a = a\n",
    "    def get_a(self):\n",
    "        return self.__a\n",
    "    \n",
    "    def set_b(self,b):\n",
    "        self.__b = b\n",
    "    def get_b(self):\n",
    "        return self.__b\n",
    "    \n",
    "    \n",
    "        "
   ]
  },
  {
   "cell_type": "code",
   "execution_count": 19,
   "id": "e85027ca",
   "metadata": {},
   "outputs": [
    {
     "data": {
      "text/plain": [
       "1"
      ]
     },
     "execution_count": 19,
     "metadata": {},
     "output_type": "execute_result"
    }
   ],
   "source": [
    "obj =abc(1,2)\n",
    "obj.get_a()"
   ]
  },
  {
   "cell_type": "code",
   "execution_count": 20,
   "id": "d3499a69",
   "metadata": {},
   "outputs": [
    {
     "data": {
      "text/plain": [
       "2"
      ]
     },
     "execution_count": 20,
     "metadata": {},
     "output_type": "execute_result"
    }
   ],
   "source": [
    "obj.get_b()"
   ]
  },
  {
   "cell_type": "code",
   "execution_count": 21,
   "id": "fc93ab49",
   "metadata": {},
   "outputs": [],
   "source": [
    "obj.set_a(4)"
   ]
  },
  {
   "cell_type": "code",
   "execution_count": 22,
   "id": "10f81b10",
   "metadata": {},
   "outputs": [
    {
     "data": {
      "text/plain": [
       "4"
      ]
     },
     "execution_count": 22,
     "metadata": {},
     "output_type": "execute_result"
    }
   ],
   "source": [
    "obj.get_a()"
   ]
  },
  {
   "cell_type": "markdown",
   "id": "69b9d7a7",
   "metadata": {},
   "source": [
    "Q5.What is method overriding in python? Write a python code to demonstrate method overriding.\n",
    "\n",
    "Ans: Method overiding is the concept in python , where if we define method name with same name in child class as defined in parent class thaen child class methos overide the parent class method , so if we create the object of  child class and call that method than child class method will get invoked instead of parent class method. "
   ]
  },
  {
   "cell_type": "code",
   "execution_count": 23,
   "id": "41e88c19",
   "metadata": {},
   "outputs": [],
   "source": [
    "class parent:\n",
    "    def hello(self):\n",
    "        return 'in parent class'\n",
    "    \n",
    "class child(parent):\n",
    "    def hello(self):\n",
    "        return 'in child class'\n",
    "    \n",
    "    "
   ]
  },
  {
   "cell_type": "code",
   "execution_count": 24,
   "id": "5ce1a8a2",
   "metadata": {},
   "outputs": [
    {
     "data": {
      "text/plain": [
       "'in child class'"
      ]
     },
     "execution_count": 24,
     "metadata": {},
     "output_type": "execute_result"
    }
   ],
   "source": [
    "c = child()\n",
    "c.hello()"
   ]
  },
  {
   "cell_type": "code",
   "execution_count": null,
   "id": "d987f792",
   "metadata": {},
   "outputs": [],
   "source": []
  },
  {
   "cell_type": "code",
   "execution_count": null,
   "id": "a67016d6",
   "metadata": {},
   "outputs": [],
   "source": [
    "\n"
   ]
  },
  {
   "cell_type": "code",
   "execution_count": null,
   "id": "0d533258",
   "metadata": {},
   "outputs": [],
   "source": []
  },
  {
   "cell_type": "code",
   "execution_count": null,
   "id": "fbb0d4f3",
   "metadata": {},
   "outputs": [],
   "source": []
  }
 ],
 "metadata": {
  "kernelspec": {
   "display_name": "Python 3 (ipykernel)",
   "language": "python",
   "name": "python3"
  },
  "language_info": {
   "codemirror_mode": {
    "name": "ipython",
    "version": 3
   },
   "file_extension": ".py",
   "mimetype": "text/x-python",
   "name": "python",
   "nbconvert_exporter": "python",
   "pygments_lexer": "ipython3",
   "version": "3.9.13"
  }
 },
 "nbformat": 4,
 "nbformat_minor": 5
}
