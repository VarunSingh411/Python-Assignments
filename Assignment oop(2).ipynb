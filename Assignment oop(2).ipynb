{
 "cells": [
  {
   "cell_type": "markdown",
   "id": "51190868",
   "metadata": {},
   "source": [
    "Q1. Explain Class and Object with respect to Object-Oriented Programming. Give a suitable example.\n",
    "\n",
    "Ans: An object is an instance of a class.  A class can be defined as a template/blueprint that describes the behavior/state that the object of its type support.\n",
    "eg : Bicycle is a class then MountainBicycle , SportsBicycle , TouringBicycle , etc can be considered as objects of the class."
   ]
  },
  {
   "cell_type": "markdown",
   "id": "26733f61",
   "metadata": {},
   "source": [
    "Q2: Name the four pillars of OOPs.\n",
    "Ans: i) Encapsualtion\n",
    "     ii) Polymorphism\n",
    "     iii) Abstraction\n",
    "     iv) Inheritance"
   ]
  },
  {
   "cell_type": "markdown",
   "id": "bbb22bc8",
   "metadata": {},
   "source": [
    "Q3: Explain why the __init__() function is used. Give a suitable example.\n",
    "Ans: We can also say it is a type of constructor , basially used to inatilize the instance variable of the class.eg:"
   ]
  },
  {
   "cell_type": "code",
   "execution_count": 2,
   "id": "eb9947d8",
   "metadata": {},
   "outputs": [
    {
     "data": {
      "text/plain": [
       "1"
      ]
     },
     "execution_count": 2,
     "metadata": {},
     "output_type": "execute_result"
    }
   ],
   "source": [
    "class Abc:\n",
    "    def __init__(self,a,b):\n",
    "        self.a = a\n",
    "        self.b =b\n",
    "        \n",
    "ob = Abc(1,2)\n",
    "ob.a"
   ]
  },
  {
   "cell_type": "code",
   "execution_count": 3,
   "id": "9c61ad34",
   "metadata": {},
   "outputs": [
    {
     "data": {
      "text/plain": [
       "2"
      ]
     },
     "execution_count": 3,
     "metadata": {},
     "output_type": "execute_result"
    }
   ],
   "source": [
    "ob.b"
   ]
  },
  {
   "cell_type": "markdown",
   "id": "8828deb8",
   "metadata": {},
   "source": [
    "Q4. Why self is used in OOPs?\n",
    "Ans: It hold the address of the object of the class and it is used inside the class to call/access the instance method and variables within the class."
   ]
  },
  {
   "cell_type": "markdown",
   "id": "3a22ede3",
   "metadata": {},
   "source": [
    "Q5. What is inheritance? Give an example for each type of inheritance.\n",
    "Ans: Inheritance allows us to define a class that inherits all the methods and properties from another class. Parent class is the class being inherited from, also called base class. Child class is the class that inherits from another class, also called derived class.\n",
    "\n",
    "eg:\n",
    "\n"
   ]
  },
  {
   "cell_type": "code",
   "execution_count": 5,
   "id": "894e0130",
   "metadata": {},
   "outputs": [
    {
     "name": "stdout",
     "output_type": "stream",
     "text": [
      "hi\n"
     ]
    }
   ],
   "source": [
    "#Single level\n",
    "\n",
    "class A:\n",
    "    def parent(self):\n",
    "        print('hi')\n",
    "        \n",
    "class B(A):\n",
    "    def child(self):\n",
    "        print('hello')\n",
    "        \n",
    "        \n",
    "ob =B()\n",
    "ob.parent()"
   ]
  },
  {
   "cell_type": "code",
   "execution_count": 6,
   "id": "e761f9ce",
   "metadata": {},
   "outputs": [
    {
     "name": "stdout",
     "output_type": "stream",
     "text": [
      "hello\n"
     ]
    }
   ],
   "source": [
    "ob.child()"
   ]
  },
  {
   "cell_type": "code",
   "execution_count": 7,
   "id": "40353c88",
   "metadata": {},
   "outputs": [
    {
     "name": "stdout",
     "output_type": "stream",
     "text": [
      "hi\n"
     ]
    }
   ],
   "source": [
    "#Multilevel\n",
    "\n",
    "class A:\n",
    "    def parent(self):\n",
    "        print('hi')\n",
    "        \n",
    "class B(A):\n",
    "    def child_1(self):\n",
    "        print('hello')\n",
    "        \n",
    "class C(B):\n",
    "    def child_2(self):\n",
    "        print('adios')\n",
    "        \n",
    "        \n",
    "ob =C()\n",
    "ob.parent()\n",
    "\n"
   ]
  },
  {
   "cell_type": "code",
   "execution_count": 8,
   "id": "a18349a2",
   "metadata": {},
   "outputs": [
    {
     "name": "stdout",
     "output_type": "stream",
     "text": [
      "hello\n"
     ]
    }
   ],
   "source": [
    "ob.child_1()"
   ]
  },
  {
   "cell_type": "code",
   "execution_count": 9,
   "id": "12b5ead8",
   "metadata": {},
   "outputs": [
    {
     "name": "stdout",
     "output_type": "stream",
     "text": [
      "adios\n"
     ]
    }
   ],
   "source": [
    "ob.child_2()"
   ]
  },
  {
   "cell_type": "code",
   "execution_count": 10,
   "id": "f2996eab",
   "metadata": {},
   "outputs": [
    {
     "name": "stdout",
     "output_type": "stream",
     "text": [
      "hi\n"
     ]
    }
   ],
   "source": [
    "#Multiple\n",
    "\n",
    "class A:\n",
    "    def parent(self):\n",
    "        print('hi')\n",
    "        \n",
    "class B:\n",
    "    def child_1(self):\n",
    "        print('hello')\n",
    "        \n",
    "class C(A,B):\n",
    "    def child_2(self):\n",
    "        print('adios')\n",
    "        \n",
    "        \n",
    "ob =C()\n",
    "ob.parent()\n",
    "\n"
   ]
  },
  {
   "cell_type": "code",
   "execution_count": 11,
   "id": "eaefa778",
   "metadata": {},
   "outputs": [
    {
     "name": "stdout",
     "output_type": "stream",
     "text": [
      "hello\n"
     ]
    }
   ],
   "source": [
    "ob.child_1()"
   ]
  },
  {
   "cell_type": "code",
   "execution_count": 13,
   "id": "6ed5a906",
   "metadata": {},
   "outputs": [
    {
     "name": "stdout",
     "output_type": "stream",
     "text": [
      "adios\n"
     ]
    }
   ],
   "source": [
    "ob.child_2()"
   ]
  },
  {
   "cell_type": "code",
   "execution_count": 14,
   "id": "00522e01",
   "metadata": {},
   "outputs": [
    {
     "name": "stdout",
     "output_type": "stream",
     "text": [
      "This function is in parent class.\n",
      "This function is in child 1.\n",
      "This function is in parent class.\n",
      "This function is in child 2.\n"
     ]
    }
   ],
   "source": [
    "#Hierarchical\n",
    "class Parent:\n",
    "    def func1(self):\n",
    "        print(\"This function is in parent class.\")\n",
    " \n",
    "\n",
    "class Child1(Parent):\n",
    "    def func2(self):\n",
    "        print(\"This function is in child 1.\")\n",
    "\n",
    " \n",
    "\n",
    "class Child2(Parent):\n",
    "    def func3(self):\n",
    "        print(\"This function is in child 2.\")\n",
    " \n",
    "\n",
    "object1 = Child1()\n",
    "object2 = Child2()\n",
    "object1.func1()\n",
    "object1.func2()\n",
    "object2.func1()\n",
    "object2.func3()"
   ]
  },
  {
   "cell_type": "code",
   "execution_count": null,
   "id": "00794025",
   "metadata": {},
   "outputs": [],
   "source": [
    "#Hybrid:  It is combination of two or more inheritance ."
   ]
  },
  {
   "cell_type": "code",
   "execution_count": null,
   "id": "6f224c8b",
   "metadata": {},
   "outputs": [],
   "source": []
  },
  {
   "cell_type": "code",
   "execution_count": null,
   "id": "87b3d98f",
   "metadata": {},
   "outputs": [],
   "source": []
  },
  {
   "cell_type": "code",
   "execution_count": null,
   "id": "fd42007e",
   "metadata": {},
   "outputs": [],
   "source": []
  },
  {
   "cell_type": "code",
   "execution_count": null,
   "id": "56e611af",
   "metadata": {},
   "outputs": [],
   "source": []
  }
 ],
 "metadata": {
  "kernelspec": {
   "display_name": "Python 3 (ipykernel)",
   "language": "python",
   "name": "python3"
  },
  "language_info": {
   "codemirror_mode": {
    "name": "ipython",
    "version": 3
   },
   "file_extension": ".py",
   "mimetype": "text/x-python",
   "name": "python",
   "nbconvert_exporter": "python",
   "pygments_lexer": "ipython3",
   "version": "3.9.13"
  }
 },
 "nbformat": 4,
 "nbformat_minor": 5
}
